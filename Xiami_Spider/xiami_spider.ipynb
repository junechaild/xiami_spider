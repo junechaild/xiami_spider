{
 "cells": [
  {
   "cell_type": "code",
   "execution_count": 1,
   "metadata": {
    "collapsed": true
   },
   "outputs": [
    {
     "name": "stdout",
     "output_type": "stream",
     "text": [
      "200\n{'Server': 'Tengine', 'Transfer-Encoding': 'chunked', 'Vary': 'Accept-Encoding', 'Date': 'Wed, 28 Dec 2016 03:06:30 GMT', 'Connection': 'keep-alive', 'Pragma': 'no-cache', 'Cache-Controli': 'must-revalidate', 'Content-Type': 'text/html; charset=utf-8', 'Content-Encoding': 'gzip'}\n"
     ]
    }
   ],
   "source": [
    "import requests\n",
    "import lxml.html as lx\n",
    "import urllib.request as request\n",
    "headers={'user-agent':'Mozilla/5.0 (Windows NT 10.0; WOW64) AppleWebKit/537.36 (KHTML, like Gecko) Chrome/53.0.2785.143 Safari/537.36'\n",
    "}\n",
    "cookies={'gid':'148230424430779',\n",
    "         '_xiamitoken':'110e8bd93f93cf9022beaced77cbea99',\n",
    "         '_unsign_token':'12e630ef05e0498f4ed75edfd235cfaa',\n",
    "         'CNZZDATA921634':'cnzz_eid%3D1925397266-1482300850-%26ntime%3D1482300850',\n",
    "         'CNZZDATA2629111':'cnzz_eid%3D191862154-1482301573-%26ntime%3D1482301573',\n",
    "         'cna':'9BjhEJqDQkUCAdOiGi3dEudT',\n",
    "         'l':'AmJiyzVIGfmcQs111spmH98oMuLA6GbN',\n",
    "\t     'isg':'Ari414mpFEFBsnjFzY7kAH_IiWbyWRyruRH6jvItWPOmDVL3lDI-Ovtvs7JH',\n",
    "\t     'login_method':'mobilelogin',\n",
    "         'member_auth':'0jqaS44eumtnhaTCHIFidyIX5%2BfQHGWGxtxXhrZ%2BslEiId1cMYCsxKuVRghJ3ieXrWHJiwxJVL%2BYjXg',\n",
    "'user':'44316745%22%E6%AF%81%E5%B9%B4%E6%A2%A6%22images%2Favatar_new%2F886%2F5823c53761269_44316745_1478739255_1.jpg%220%2211711%22%3Ca+href%3D%27%2Fwebsitehelp%23help9_3%27+%3EDo%E2%80%A2%3C%2Fa%3E%2223%224%2211586%22f210cf922d%221482321865'\n",
    "}\n",
    "response=requests.get('http://www.xiami.com',cookies=cookies,headers=headers)\n",
    "print(response.status_code)\n",
    "print(response.headers)"
   ]
  },
  {
   "cell_type": "code",
   "execution_count": 2,
   "metadata": {},
   "outputs": [
    {
     "name": "stdout",
     "output_type": "stream",
     "text": [
      "200\n{'Server': 'Tengine', 'Transfer-Encoding': 'chunked', 'Vary': 'Accept-Encoding', 'Date': 'Wed, 28 Dec 2016 03:07:13 GMT', 'Connection': 'keep-alive', 'Pragma': 'no-cache', 'Cache-Controli': 'must-revalidate', 'Content-Type': 'text/html; charset=utf-8', 'Content-Encoding': 'gzip'}\n"
     ]
    }
   ],
   "source": [
    "re=requests.get('http://www.xiami.com/space/lib-song/u/44316745/1',cookies=cookies,headers=headers)\n",
    "print(re.status_code)\n",
    "print(re.headers)"
   ]
  },
  {
   "cell_type": "code",
   "execution_count": 3,
   "metadata": {},
   "outputs": [
    {
     "name": "stdout",
     "output_type": "stream",
     "text": [
      "[\"Up All Night (Jamal's 2015 Version)\", '莫失莫忘', \"Got Me Runnin' Round\", '青丝', 'In Your Skin', 'Amsterdam', '春告鳥  ', '1984', 'あいとわ', 'DARMA GRAND PRIX', 'かたわれ時', 'なんでもないや (movie edit)', 'スパークル (movie ver.)', '御神体へ再び', 'デート', '御神体', '前前前世 (movie ver.)', '奥寺先輩のテーマ', 'はじめての、東京', '夢灯籠', '小时候', 'なんでもないや (movie ver.)', 'Hangover', 'Whistle', '僕と月の話'] ['Empire Cast', 'Nickelback', '时光胶囊', 'Lifehouse', 'Imagine Dragons', '藤原道山', 'SAMURAI JACK UNIVERSE', 'RADWIMPS', 'RADWIMPS', 'RADWIMPS', 'RADWIMPS', 'RADWIMPS', 'RADWIMPS', 'RADWIMPS', 'RADWIMPS', 'RADWIMPS', 'RADWIMPS', 'RADWIMPS', 'Flo Rida', 'ラックライフ']\n1567\n25\n63\n"
     ]
    }
   ],
   "source": [
    "import math\n",
    "song_tree=lx.fromstring(re.text)\n",
    "song_names=song_tree.xpath(\"//div[@class='c695_l_content']/table[@class='track_list']/tbody/tr\"\n",
    "                           \"/td[@class='song_name']/a[1]/text()\")\n",
    "song_singer=song_tree.xpath(\"//div[@class='c695_l_content']/table[@class='track_list']/tbody/tr\"\n",
    "                           \"/td[@class='song_name']/a[2]/text()\")\n",
    "print(song_names,song_singer)\n",
    "song_sum=str(song_tree.xpath(\"//div[@class='c695_l_content']/div[@class='all_page']/span/text()\")[0])\n",
    "start=song_sum.find('共')\n",
    "end=song_sum.find('条')\n",
    "song_sum=int(song_sum[start+1:end])\n",
    "print(song_sum)\n",
    "page_sum=math.ceil(song_sum/len(song_names))#向上取整\n",
    "print(len(song_names))\n",
    "print(page_sum)"
   ]
  },
  {
   "cell_type": "code",
   "execution_count": 4,
   "metadata": {},
   "outputs": [],
   "source": [
    "song_urls=[]\n",
    "for i in range(1,page_sum+1):\n",
    "    u='http://www.xiami.com/space/lib-song/u/44316745/'+str(i)\n",
    "    song_urls.append(u)"
   ]
  },
  {
   "cell_type": "code",
   "execution_count": 5,
   "metadata": {},
   "outputs": [
    {
     "name": "stdout",
     "output_type": "stream",
     "text": [
      "http://www.xiami.com/song/mQO5eI82202\n"
     ]
    },
    {
     "name": "stdout",
     "output_type": "stream",
     "text": [
      "200\n"
     ]
    }
   ],
   "source": [
    "song_url=song_tree.xpath(\"//div/table[@class='track_list']/tbody/tr/td[@class='song_name']/a[1]/@href\")#选取属性用@\n",
    "print(song_url[0])\n",
    "song_re=requests.get(song_url[0],cookies=cookies,headers=headers)\n",
    "print(song_re.status_code)"
   ]
  },
  {
   "cell_type": "code",
   "execution_count": 6,
   "metadata": {},
   "outputs": [
    {
     "name": "stdout",
     "output_type": "stream",
     "text": [
      "21\nEmpire: Music From  /album/23991330\nhttps://www.xiami.com/album/23991330\n"
     ]
    },
    {
     "name": "stdout",
     "output_type": "stream",
     "text": [
      "200\n"
     ]
    }
   ],
   "source": [
    "single_song_tree=lx.fromstring(song_re.text)\n",
    "#song_listen_num=single_song_tree.xpath(\"//li[@class='line'][1]/em[@id='play_count_num']/\")#获取js的json数据\n",
    "song_comment_num=single_song_tree.xpath(\"//ul[@class='clearfix']/li[3]/a/text()\")\n",
    "print(song_comment_num[0])\n",
    "album_name=single_song_tree.xpath(\"//div[@class='album_relation']/div[@class='cover']/a/@title\")[0]\n",
    "album_url=single_song_tree.xpath(\"///div[@class='album_relation']/div[@class='cover']/a/@href\")[0]\n",
    "print(album_name,album_url)\n",
    "if(album_url.find(\"www.xiami.com\")):\n",
    "    album_url=\"https://www.xiami.com\"+album_url\n",
    "print(album_url)\n",
    "album_url='http://www.xiami.com/album/xkhDZfd71a9?spm=a1z1s.3061781.6856533.8.aLC10k'\n",
    "album_re=requests.get(album_url,cookies=cookies,headers=headers)\n",
    "print(album_re.status_code)"
   ]
  },
  {
   "cell_type": "code",
   "execution_count": 7,
   "metadata": {},
   "outputs": [
    {
     "name": "stdout",
     "output_type": "stream",
     "text": [
      "[] 日语 SPACE SHOWER MUSIC 2014年10月15日 []\n"
     ]
    }
   ],
   "source": [
    "album_tree=lx.fromstring(album_re.text)\n",
    "album_score=album_tree.xpath(\"//p[@class='clearfix']/em/text()\")\n",
    "album_language=album_tree.xpath(\"//div[@id='album_info']/table/tr[2]/td[2]/text()\")[0]\n",
    "album_company=album_tree.xpath(\"//div[@id='album_info']/table/tr[3]/td/a/text()\")[0]\n",
    "album_date=album_tree.xpath(\"//div[@id='album_info']/table/tr[4]/td[2]/text()\")[0]\n",
    "album_genre=album_tree.xpath(\"//div[@id='album_info']/table/tr[6]/td/a/text()\")\n",
    "print(album_score,album_language,album_company,album_date,album_genre)"
   ]
  },
  {
   "cell_type": "code",
   "execution_count": 11,
   "metadata": {
    "collapsed": false
   },
   "outputs": [
    {
     "name": "stdout",
     "output_type": "stream",
     "text": [
      "http://www.xiami.com/song/mQH4op8e667 200\nhttp://www.xiami.com/song/mQ68N46e4e3 200\nhttp://www.xiami.com/song/8GjelJec625 200\n"
     ]
    },
    {
     "name": "stdout",
     "output_type": "stream",
     "text": [
      "http://www.xiami.com/song/xLsl2ge0f30 200\nhttp://www.xiami.com/song/xL9JvRab042 200\nhttp://www.xiami.com/song/bClbVT64907e 200\n"
     ]
    },
    {
     "name": "stdout",
     "output_type": "stream",
     "text": [
      "http://www.xiami.com/song/mQYfwT85358 200\nhttp://www.xiami.com/song/xLJelpd219d 200\n"
     ]
    },
    {
     "name": "stdout",
     "output_type": "stream",
     "text": [
      "http://www.xiami.com/song/mQH5SD884f9 200\nhttp://www.xiami.com/song/mQYfwV7b35f 200\nhttp://www.xiami.com/song/xLJelw11376 200\nhttp://www.xiami.com/song/xLJelo9e762 200\n"
     ]
    },
    {
     "name": "stdout",
     "output_type": "stream",
     "text": [
      "http://www.xiami.com/song/mQYfw968cbc 200\nhttp://www.xiami.com/song/8G4ktFecbf5 200\nhttp://www.xiami.com/song/fL1n5d13c 200\n"
     ]
    },
    {
     "name": "stdout",
     "output_type": "stream",
     "text": [
      "http://www.xiami.com/song/xLuVK2a54c6 200\nhttp://www.xiami.com/song/mQYfw6c0529 200\n"
     ]
    },
    {
     "name": "stdout",
     "output_type": "stream",
     "text": [
      "http://www.xiami.com/song/8G4dage6f67 200\nhttp://www.xiami.com/song/b1qqXeF3de97 200\nhttp://www.xiami.com/song/mQCTGO930b4 200\n"
     ]
    },
    {
     "name": "stdout",
     "output_type": "stream",
     "text": [
      "http://www.xiami.com/song/xL8UjHd799b 200\n['http://www.xiami.com/song/mQO5eI82202', 'http://www.xiami.com/song/mQ68N46e4e3', 'http://www.xiami.com/song/8GspPaf3c1c', 'http://www.xiami.com/song/mQH4op8e667', 'http://www.xiami.com/song/8Ga5wOfc522', 'http://www.xiami.com/song/8GjelJec625', 'http://www.xiami.com/song/eYmm85e68b', 'http://www.xiami.com/song/xLsl2ge0f30', 'http://www.xiami.com/song/xL9JvRab042', 'http://www.xiami.com/song/mQH5SD884f9', 'http://www.xiami.com/song/bClbVT64907e', 'http://www.xiami.com/song/mQYfwV7b35f', 'http://www.xiami.com/song/mQYfwT85358', 'http://www.xiami.com/song/xLJelw11376', 'http://www.xiami.com/song/xLJelpd219d', 'http://www.xiami.com/song/xLJelo9e762', 'http://www.xiami.com/song/8G4ktFecbf5', 'http://www.xiami.com/song/b1qqXeF3de97', 'http://www.xiami.com/song/mQYfw968cbc', 'http://www.xiami.com/song/mQYfw6c0529', 'http://www.xiami.com/song/fL1n5d13c', 'http://www.xiami.com/song/8G4dage6f67', 'http://www.xiami.com/song/xLuVK2a54c6', 'http://www.xiami.com/song/mQCTGO930b4', 'http://www.xiami.com/song/xL8UjHd799b']\nit take: 2.8835670948028564\n"
     ]
    },
    {
     "name": "stdout",
     "output_type": "stream",
     "text": [
      "http://www.xiami.com/song/eYmm85e68b 200\nhttp://www.xiami.com/song/8Ga5wOfc522 200\nhttp://www.xiami.com/song/mQO5eI82202 200\nhttp://www.xiami.com/song/8GspPaf3c1c 200\n"
     ]
    },
    {
     "name": "stdout",
     "output_type": "stream",
     "text": [
      "http://www.xiami.com/song/mQ68N46e4e3 200\nhttp://www.xiami.com/song/xLsl2ge0f30 200\nhttp://www.xiami.com/song/mQH4op8e667 200\nhttp://www.xiami.com/song/8GjelJec625 200\n"
     ]
    },
    {
     "name": "stdout",
     "output_type": "stream",
     "text": [
      "http://www.xiami.com/song/xLJelpd219d 200\nhttp://www.xiami.com/song/xL9JvRab042 200\nhttp://www.xiami.com/song/bClbVT64907e 200\nhttp://www.xiami.com/song/mQYfwT85358 200\n"
     ]
    },
    {
     "name": "stdout",
     "output_type": "stream",
     "text": [
      "http://www.xiami.com/song/xLJelo9e762 200\nhttp://www.xiami.com/song/mQYfwV7b35f 200\nhttp://www.xiami.com/song/xLJelw11376 200\nhttp://www.xiami.com/song/mQH5SD884f9 200\n"
     ]
    },
    {
     "name": "stdout",
     "output_type": "stream",
     "text": [
      "http://www.xiami.com/song/8G4ktFecbf5 200\nhttp://www.xiami.com/song/xLuVK2a54c6 200\nhttp://www.xiami.com/song/mQYfw968cbc 200\n"
     ]
    },
    {
     "name": "stdout",
     "output_type": "stream",
     "text": [
      "http://www.xiami.com/song/fL1n5d13c 200\nhttp://www.xiami.com/song/b1qqXeF3de97 200\n"
     ]
    },
    {
     "name": "stdout",
     "output_type": "stream",
     "text": [
      "http://www.xiami.com/song/mQYfw6c0529 200\nhttp://www.xiami.com/song/mQCTGO930b4 200\nhttp://www.xiami.com/song/8G4dage6f67 200\n"
     ]
    },
    {
     "name": "stdout",
     "output_type": "stream",
     "text": [
      "http://www.xiami.com/song/xL8UjHd799b 200\n['http://www.xiami.com/song/mQO5eI82202', 'http://www.xiami.com/song/mQ68N46e4e3', 'http://www.xiami.com/song/8GspPaf3c1c', 'http://www.xiami.com/song/mQH4op8e667', 'http://www.xiami.com/song/8Ga5wOfc522', 'http://www.xiami.com/song/8GjelJec625', 'http://www.xiami.com/song/eYmm85e68b', 'http://www.xiami.com/song/xLsl2ge0f30', 'http://www.xiami.com/song/xL9JvRab042', 'http://www.xiami.com/song/mQH5SD884f9', 'http://www.xiami.com/song/bClbVT64907e', 'http://www.xiami.com/song/mQYfwV7b35f', 'http://www.xiami.com/song/mQYfwT85358', 'http://www.xiami.com/song/xLJelw11376', 'http://www.xiami.com/song/xLJelpd219d', 'http://www.xiami.com/song/xLJelo9e762', 'http://www.xiami.com/song/8G4ktFecbf5', 'http://www.xiami.com/song/b1qqXeF3de97', 'http://www.xiami.com/song/mQYfw968cbc', 'http://www.xiami.com/song/mQYfw6c0529', 'http://www.xiami.com/song/fL1n5d13c', 'http://www.xiami.com/song/8G4dage6f67', 'http://www.xiami.com/song/xLuVK2a54c6', 'http://www.xiami.com/song/mQCTGO930b4', 'http://www.xiami.com/song/xL8UjHd799b']\nit take: 2.733572006225586\n"
     ]
    },
    {
     "name": "stdout",
     "output_type": "stream",
     "text": [
      "http://www.xiami.com/song/8GspPaf3c1c 200\nhttp://www.xiami.com/song/mQO5eI82202 200\nhttp://www.xiami.com/song/8Ga5wOfc522 200\nhttp://www.xiami.com/song/eYmm85e68b 200\n"
     ]
    },
    {
     "name": "stdout",
     "output_type": "stream",
     "text": [
      "http://www.xiami.com/song/mQH4op8e667 200\nhttp://www.xiami.com/song/8GjelJec625 200\nhttp://www.xiami.com/song/mQ68N46e4e3 200\n"
     ]
    },
    {
     "name": "stdout",
     "output_type": "stream",
     "text": [
      "http://www.xiami.com/song/xLsl2ge0f30 200\n"
     ]
    },
    {
     "name": "stdout",
     "output_type": "stream",
     "text": [
      "http://www.xiami.com/song/xL9JvRab042 200\nhttp://www.xiami.com/song/bClbVT64907e 200\nhttp://www.xiami.com/song/mQYfwT85358 200\nhttp://www.xiami.com/song/xLJelpd219d 200\n"
     ]
    },
    {
     "name": "stdout",
     "output_type": "stream",
     "text": [
      "http://www.xiami.com/song/mQH5SD884f9 200\nhttp://www.xiami.com/song/xLJelw11376 200\nhttp://www.xiami.com/song/mQYfwV7b35f 200\nhttp://www.xiami.com/song/xLJelo9e762 200\n"
     ]
    },
    {
     "name": "stdout",
     "output_type": "stream",
     "text": [
      "http://www.xiami.com/song/mQYfw968cbc 200\nhttp://www.xiami.com/song/8G4ktFecbf5 200\nhttp://www.xiami.com/song/fL1n5d13c 200\nhttp://www.xiami.com/song/xLuVK2a54c6 200\n"
     ]
    },
    {
     "name": "stdout",
     "output_type": "stream",
     "text": [
      "http://www.xiami.com/song/b1qqXeF3de97 200\nhttp://www.xiami.com/song/mQYfw6c0529 200\nhttp://www.xiami.com/song/8G4dage6f67 200\n"
     ]
    },
    {
     "name": "stdout",
     "output_type": "stream",
     "text": [
      "http://www.xiami.com/song/mQCTGO930b4 200\nhttp://www.xiami.com/song/xL8UjHd799b 200\n['http://www.xiami.com/song/mQO5eI82202', 'http://www.xiami.com/song/mQ68N46e4e3', 'http://www.xiami.com/song/8GspPaf3c1c', 'http://www.xiami.com/song/mQH4op8e667', 'http://www.xiami.com/song/8Ga5wOfc522', 'http://www.xiami.com/song/8GjelJec625', 'http://www.xiami.com/song/eYmm85e68b', 'http://www.xiami.com/song/xLsl2ge0f30', 'http://www.xiami.com/song/xL9JvRab042', 'http://www.xiami.com/song/mQH5SD884f9', 'http://www.xiami.com/song/bClbVT64907e', 'http://www.xiami.com/song/mQYfwV7b35f', 'http://www.xiami.com/song/mQYfwT85358', 'http://www.xiami.com/song/xLJelw11376', 'http://www.xiami.com/song/xLJelpd219d', 'http://www.xiami.com/song/xLJelo9e762', 'http://www.xiami.com/song/8G4ktFecbf5', 'http://www.xiami.com/song/b1qqXeF3de97', 'http://www.xiami.com/song/mQYfw968cbc', 'http://www.xiami.com/song/mQYfw6c0529', 'http://www.xiami.com/song/fL1n5d13c', 'http://www.xiami.com/song/8G4dage6f67', 'http://www.xiami.com/song/xLuVK2a54c6', 'http://www.xiami.com/song/mQCTGO930b4', 'http://www.xiami.com/song/xL8UjHd799b']\nit take: 2.6810567378997803\n"
     ]
    }
   ],
   "source": [
    "import time\n",
    "from multiprocessing.dummy import Pool\n",
    "def get_source(url):\n",
    "    urlre=requests.get(url,cookies=cookies,headers=headers)\n",
    "    print(url,urlre.status_code)\n",
    "    return url\n",
    "for i,url in enumerate(song_url):\n",
    "    url=url.replace(\"http\",\"https\")\n",
    "    #get_source(url)\n",
    "pool=Pool(4)\n",
    "time3=time.time()\n",
    "res=pool.map(get_source,song_url)\n",
    "print(res)\n",
    "pool.close()\n",
    "pool.join()\n",
    "time4=time.time()\n",
    "print(\"it take:\",(time4-time3))"
   ]
  },
  {
   "cell_type": "code",
   "execution_count": 12,
   "metadata": {},
   "outputs": [
    {
     "name": "stdout",
     "output_type": "stream",
     "text": [
      "[<Response [302]>]\nhttp://i.xiami.com/jamnice/demo/1774400232\n200\n"
     ]
    }
   ],
   "source": [
    "res=requests.get(\"http://www.xiami.com/song/xLBklKd5e8d\",cookies=cookies,headers=headers,\n",
    "                 allow_redirects= True)\n",
    "print(res.history)\n",
    "print(res.url)\n",
    "print(res.status_code)\n",
    "#print(res.loca)"
   ]
  },
  {
   "cell_type": "code",
   "execution_count": 14,
   "metadata": {},
   "outputs": [],
   "source": [
    "from selenium import webdriver\n",
    "import time\n",
    "driver=webdriver.PhantomJS(executable_path='Xiami_Spider/phantomjs.exe')"
   ]
  },
  {
   "cell_type": "code",
   "execution_count": 21,
   "metadata": {},
   "outputs": [
    {
     "ename": "NoSuchElementException",
     "evalue": "Message: {\"errorMessage\":\"Unable to find element with id 'play_count_num'\",\"request\":{\"headers\":{\"Accept\":\"application/json\",\"Accept-Encoding\":\"identity\",\"Connection\":\"close\",\"Content-Length\":\"95\",\"Content-Type\":\"application/json;charset=UTF-8\",\"Host\":\"127.0.0.1:54410\",\"User-Agent\":\"Python-urllib/3.5\"},\"httpVersion\":\"1.1\",\"method\":\"POST\",\"post\":\"{\\\"sessionId\\\": \\\"46fe1770-ccab-11e6-94e4-4fd240948681\\\", \\\"value\\\": \\\"play_count_num\\\", \\\"using\\\": \\\"id\\\"}\",\"url\":\"/element\",\"urlParsed\":{\"anchor\":\"\",\"query\":\"\",\"file\":\"element\",\"directory\":\"/\",\"path\":\"/element\",\"relative\":\"/element\",\"port\":\"\",\"host\":\"\",\"password\":\"\",\"user\":\"\",\"userInfo\":\"\",\"authority\":\"\",\"protocol\":\"\",\"source\":\"/element\",\"queryKey\":{},\"chunks\":[\"element\"]},\"urlOriginal\":\"/session/46fe1770-ccab-11e6-94e4-4fd240948681/element\"}}\nScreenshot: available via screen\n",
     "traceback": [
      "\u001b[0;31m---------------------------------------------------------------------------\u001b[0m",
      "\u001b[0;31mNoSuchElementException\u001b[0m                    Traceback (most recent call last)",
      "\u001b[0;32m<ipython-input-21-492126dd20af>\u001b[0m in \u001b[0;36m<module>\u001b[0;34m()\u001b[0m\n\u001b[1;32m      2\u001b[0m \u001b[1;32mimport\u001b[0m  \u001b[0mtime\u001b[0m\u001b[1;33m\u001b[0m\u001b[0m\n\u001b[1;32m      3\u001b[0m \u001b[0mtime\u001b[0m\u001b[1;33m.\u001b[0m\u001b[0msleep\u001b[0m\u001b[1;33m(\u001b[0m\u001b[1;36m0.5\u001b[0m\u001b[1;33m)\u001b[0m\u001b[1;33m\u001b[0m\u001b[0m\n\u001b[0;32m----> 4\u001b[0;31m \u001b[0ms\u001b[0m\u001b[1;33m=\u001b[0m\u001b[0mdriver\u001b[0m\u001b[1;33m.\u001b[0m\u001b[0mfind_element_by_id\u001b[0m\u001b[1;33m(\u001b[0m\u001b[1;34m\"play_count_num\"\u001b[0m\u001b[1;33m)\u001b[0m\u001b[1;33m.\u001b[0m\u001b[0mtext\u001b[0m\u001b[1;33m\u001b[0m\u001b[0m\n\u001b[0m\u001b[1;32m      5\u001b[0m \u001b[0mprint\u001b[0m\u001b[1;33m(\u001b[0m\u001b[0ms\u001b[0m\u001b[1;33m)\u001b[0m\u001b[1;33m\u001b[0m\u001b[0m\n",
      "\u001b[0;32mE:\\Anaconda\\lib\\site-packages\\selenium\\webdriver\\remote\\webdriver.py\u001b[0m in \u001b[0;36mfind_element_by_id\u001b[0;34m(self, id_)\u001b[0m\n\u001b[1;32m    267\u001b[0m             \u001b[0mdriver\u001b[0m\u001b[1;33m.\u001b[0m\u001b[0mfind_element_by_id\u001b[0m\u001b[1;33m(\u001b[0m\u001b[1;34m'foo'\u001b[0m\u001b[1;33m)\u001b[0m\u001b[1;33m\u001b[0m\u001b[0m\n\u001b[1;32m    268\u001b[0m         \"\"\"\n\u001b[0;32m--> 269\u001b[0;31m         \u001b[1;32mreturn\u001b[0m \u001b[0mself\u001b[0m\u001b[1;33m.\u001b[0m\u001b[0mfind_element\u001b[0m\u001b[1;33m(\u001b[0m\u001b[0mby\u001b[0m\u001b[1;33m=\u001b[0m\u001b[0mBy\u001b[0m\u001b[1;33m.\u001b[0m\u001b[0mID\u001b[0m\u001b[1;33m,\u001b[0m \u001b[0mvalue\u001b[0m\u001b[1;33m=\u001b[0m\u001b[0mid_\u001b[0m\u001b[1;33m)\u001b[0m\u001b[1;33m\u001b[0m\u001b[0m\n\u001b[0m\u001b[1;32m    270\u001b[0m \u001b[1;33m\u001b[0m\u001b[0m\n\u001b[1;32m    271\u001b[0m     \u001b[1;32mdef\u001b[0m \u001b[0mfind_elements_by_id\u001b[0m\u001b[1;33m(\u001b[0m\u001b[0mself\u001b[0m\u001b[1;33m,\u001b[0m \u001b[0mid_\u001b[0m\u001b[1;33m)\u001b[0m\u001b[1;33m:\u001b[0m\u001b[1;33m\u001b[0m\u001b[0m\n",
      "\u001b[0;32mE:\\Anaconda\\lib\\site-packages\\selenium\\webdriver\\remote\\webdriver.py\u001b[0m in \u001b[0;36mfind_element\u001b[0;34m(self, by, value)\u001b[0m\n\u001b[1;32m    750\u001b[0m         return self.execute(Command.FIND_ELEMENT, {\n\u001b[1;32m    751\u001b[0m             \u001b[1;34m'using'\u001b[0m\u001b[1;33m:\u001b[0m \u001b[0mby\u001b[0m\u001b[1;33m,\u001b[0m\u001b[1;33m\u001b[0m\u001b[0m\n\u001b[0;32m--> 752\u001b[0;31m             'value': value})['value']\n\u001b[0m\u001b[1;32m    753\u001b[0m \u001b[1;33m\u001b[0m\u001b[0m\n\u001b[1;32m    754\u001b[0m     \u001b[1;32mdef\u001b[0m \u001b[0mfind_elements\u001b[0m\u001b[1;33m(\u001b[0m\u001b[0mself\u001b[0m\u001b[1;33m,\u001b[0m \u001b[0mby\u001b[0m\u001b[1;33m=\u001b[0m\u001b[0mBy\u001b[0m\u001b[1;33m.\u001b[0m\u001b[0mID\u001b[0m\u001b[1;33m,\u001b[0m \u001b[0mvalue\u001b[0m\u001b[1;33m=\u001b[0m\u001b[1;32mNone\u001b[0m\u001b[1;33m)\u001b[0m\u001b[1;33m:\u001b[0m\u001b[1;33m\u001b[0m\u001b[0m\n",
      "\u001b[0;32mE:\\Anaconda\\lib\\site-packages\\selenium\\webdriver\\remote\\webdriver.py\u001b[0m in \u001b[0;36mexecute\u001b[0;34m(self, driver_command, params)\u001b[0m\n\u001b[1;32m    234\u001b[0m         \u001b[0mresponse\u001b[0m \u001b[1;33m=\u001b[0m \u001b[0mself\u001b[0m\u001b[1;33m.\u001b[0m\u001b[0mcommand_executor\u001b[0m\u001b[1;33m.\u001b[0m\u001b[0mexecute\u001b[0m\u001b[1;33m(\u001b[0m\u001b[0mdriver_command\u001b[0m\u001b[1;33m,\u001b[0m \u001b[0mparams\u001b[0m\u001b[1;33m)\u001b[0m\u001b[1;33m\u001b[0m\u001b[0m\n\u001b[1;32m    235\u001b[0m         \u001b[1;32mif\u001b[0m \u001b[0mresponse\u001b[0m\u001b[1;33m:\u001b[0m\u001b[1;33m\u001b[0m\u001b[0m\n\u001b[0;32m--> 236\u001b[0;31m             \u001b[0mself\u001b[0m\u001b[1;33m.\u001b[0m\u001b[0merror_handler\u001b[0m\u001b[1;33m.\u001b[0m\u001b[0mcheck_response\u001b[0m\u001b[1;33m(\u001b[0m\u001b[0mresponse\u001b[0m\u001b[1;33m)\u001b[0m\u001b[1;33m\u001b[0m\u001b[0m\n\u001b[0m\u001b[1;32m    237\u001b[0m             response['value'] = self._unwrap_value(\n\u001b[1;32m    238\u001b[0m                 response.get('value', None))\n",
      "\u001b[0;32mE:\\Anaconda\\lib\\site-packages\\selenium\\webdriver\\remote\\errorhandler.py\u001b[0m in \u001b[0;36mcheck_response\u001b[0;34m(self, response)\u001b[0m\n\u001b[1;32m    190\u001b[0m         \u001b[1;32melif\u001b[0m \u001b[0mexception_class\u001b[0m \u001b[1;33m==\u001b[0m \u001b[0mUnexpectedAlertPresentException\u001b[0m \u001b[1;32mand\u001b[0m \u001b[1;34m'alert'\u001b[0m \u001b[1;32min\u001b[0m \u001b[0mvalue\u001b[0m\u001b[1;33m:\u001b[0m\u001b[1;33m\u001b[0m\u001b[0m\n\u001b[1;32m    191\u001b[0m             \u001b[1;32mraise\u001b[0m \u001b[0mexception_class\u001b[0m\u001b[1;33m(\u001b[0m\u001b[0mmessage\u001b[0m\u001b[1;33m,\u001b[0m \u001b[0mscreen\u001b[0m\u001b[1;33m,\u001b[0m \u001b[0mstacktrace\u001b[0m\u001b[1;33m,\u001b[0m \u001b[0mvalue\u001b[0m\u001b[1;33m[\u001b[0m\u001b[1;34m'alert'\u001b[0m\u001b[1;33m]\u001b[0m\u001b[1;33m.\u001b[0m\u001b[0mget\u001b[0m\u001b[1;33m(\u001b[0m\u001b[1;34m'text'\u001b[0m\u001b[1;33m)\u001b[0m\u001b[1;33m)\u001b[0m\u001b[1;33m\u001b[0m\u001b[0m\n\u001b[0;32m--> 192\u001b[0;31m         \u001b[1;32mraise\u001b[0m \u001b[0mexception_class\u001b[0m\u001b[1;33m(\u001b[0m\u001b[0mmessage\u001b[0m\u001b[1;33m,\u001b[0m \u001b[0mscreen\u001b[0m\u001b[1;33m,\u001b[0m \u001b[0mstacktrace\u001b[0m\u001b[1;33m)\u001b[0m\u001b[1;33m\u001b[0m\u001b[0m\n\u001b[0m\u001b[1;32m    193\u001b[0m \u001b[1;33m\u001b[0m\u001b[0m\n\u001b[1;32m    194\u001b[0m     \u001b[1;32mdef\u001b[0m \u001b[0m_value_or_default\u001b[0m\u001b[1;33m(\u001b[0m\u001b[0mself\u001b[0m\u001b[1;33m,\u001b[0m \u001b[0mobj\u001b[0m\u001b[1;33m,\u001b[0m \u001b[0mkey\u001b[0m\u001b[1;33m,\u001b[0m \u001b[0mdefault\u001b[0m\u001b[1;33m)\u001b[0m\u001b[1;33m:\u001b[0m\u001b[1;33m\u001b[0m\u001b[0m\n",
      "\u001b[0;31mNoSuchElementException\u001b[0m: Message: {\"errorMessage\":\"Unable to find element with id 'play_count_num'\",\"request\":{\"headers\":{\"Accept\":\"application/json\",\"Accept-Encoding\":\"identity\",\"Connection\":\"close\",\"Content-Length\":\"95\",\"Content-Type\":\"application/json;charset=UTF-8\",\"Host\":\"127.0.0.1:54410\",\"User-Agent\":\"Python-urllib/3.5\"},\"httpVersion\":\"1.1\",\"method\":\"POST\",\"post\":\"{\\\"sessionId\\\": \\\"46fe1770-ccab-11e6-94e4-4fd240948681\\\", \\\"value\\\": \\\"play_count_num\\\", \\\"using\\\": \\\"id\\\"}\",\"url\":\"/element\",\"urlParsed\":{\"anchor\":\"\",\"query\":\"\",\"file\":\"element\",\"directory\":\"/\",\"path\":\"/element\",\"relative\":\"/element\",\"port\":\"\",\"host\":\"\",\"password\":\"\",\"user\":\"\",\"userInfo\":\"\",\"authority\":\"\",\"protocol\":\"\",\"source\":\"/element\",\"queryKey\":{},\"chunks\":[\"element\"]},\"urlOriginal\":\"/session/46fe1770-ccab-11e6-94e4-4fd240948681/element\"}}\nScreenshot: available via screen\n"
     ],
     "output_type": "error"
    }
   ],
   "source": [
    "driver.get(\"http://i.xiami.com/vanessa/demo/1776033790\")\n",
    "import  time\n",
    "time.sleep(0.5)\n",
    "\n",
    "s=driver.find_element_by_id(\"play_count_num\").text\n",
    "print(s)"
   ]
  },
  {
   "cell_type": "code",
   "execution_count": null,
   "metadata": {},
   "outputs": [],
   "source": [
    ""
   ]
  }
 ],
 "metadata": {
  "kernelspec": {
   "display_name": "Python 2",
   "language": "python",
   "name": "python2"
  },
  "language_info": {
   "codemirror_mode": {
    "name": "ipython",
    "version": 2.0
   },
   "file_extension": ".py",
   "mimetype": "text/x-python",
   "name": "python",
   "nbconvert_exporter": "python",
   "pygments_lexer": "ipython2",
   "version": "2.7.6"
  }
 },
 "nbformat": 4,
 "nbformat_minor": 0
}